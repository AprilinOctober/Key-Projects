{
  "nbformat": 4,
  "nbformat_minor": 0,
  "metadata": {
    "colab": {
      "provenance": []
    },
    "kernelspec": {
      "name": "python3",
      "display_name": "Python 3"
    },
    "language_info": {
      "name": "python"
    }
  },
  "cells": [
    {
      "cell_type": "markdown",
      "source": [
        "# Sentiment Analysis on Amazon Product Reviews\n",
        "\n",
        "## Objective\n",
        "The goal of this project is to analyze customer reviews from Amazon to:\n",
        "1. Understand sentiment trends (Positive, Neutral, Negative).\n",
        "2. Identify areas for product improvement based on customer feedback.\n",
        "\n",
        "## Tools and Libraries\n",
        "- **Pandas**: For data manipulation and exploration.\n",
        "- **SpaCy**: For text preprocessing (tokenization, lemmatization, and stopword removal).\n",
        "- **Matplotlib**: For data visualization.\n",
        "\n",
        "This project will provide insights into customer satisfaction and identify opportunities for enhancing products based on feedback.\n"
      ],
      "metadata": {
        "id": "ZDQCX5KR3IrQ"
      }
    },
    {
      "cell_type": "markdown",
      "source": [
        "## Install and Import Libraries\n",
        "In this step, we will:\n",
        "1. **Install Required Libraries**:\n",
        "   - `kagglehub`: To download the dataset directly from Kaggle.\n",
        "   - `pandas`: For data manipulation and exploration.\n",
        "   - `spacy`: For natural language processing tasks like tokenization and lemmatization.\n",
        "   - `matplotlib`: For visualizing data insights.\n",
        "\n",
        "2. **Import Necessary Libraries**:\n",
        "   - Import modules needed for the project to ensure we can process the data without interruptions.\n",
        "   - Verify the setup by downloading SpaCy's `en_core_web_sm` model for English text processing.\n",
        "\n"
      ],
      "metadata": {
        "id": "gHI-Tl4E4KHT"
      }
    },
    {
      "cell_type": "code",
      "source": [
        "# Install required libraries\n",
        "!pip install kagglehub\n",
        "!pip install pandas\n",
        "!pip install spacy\n",
        "!pip install matplotlib\n",
        "!python -m spacy download en_core_web_sm\n",
        "\n",
        "# Import necessary libraries\n",
        "import os\n",
        "import pandas as pd\n",
        "import spacy\n",
        "import matplotlib.pyplot as plt\n",
        "from spacy.lang.en.stop_words import STOP_WORDS\n"
      ],
      "metadata": {
        "colab": {
          "base_uri": "https://localhost:8080/"
        },
        "id": "rom6boWU4tRm",
        "outputId": "7f193b4f-44a5-407a-f65e-4a5a3c536129"
      },
      "execution_count": 1,
      "outputs": [
        {
          "output_type": "stream",
          "name": "stdout",
          "text": [
            "Requirement already satisfied: kagglehub in /usr/local/lib/python3.10/dist-packages (0.3.4)\n",
            "Requirement already satisfied: packaging in /usr/local/lib/python3.10/dist-packages (from kagglehub) (24.2)\n",
            "Requirement already satisfied: requests in /usr/local/lib/python3.10/dist-packages (from kagglehub) (2.32.3)\n",
            "Requirement already satisfied: tqdm in /usr/local/lib/python3.10/dist-packages (from kagglehub) (4.66.6)\n",
            "Requirement already satisfied: charset-normalizer<4,>=2 in /usr/local/lib/python3.10/dist-packages (from requests->kagglehub) (3.4.0)\n",
            "Requirement already satisfied: idna<4,>=2.5 in /usr/local/lib/python3.10/dist-packages (from requests->kagglehub) (3.10)\n",
            "Requirement already satisfied: urllib3<3,>=1.21.1 in /usr/local/lib/python3.10/dist-packages (from requests->kagglehub) (2.2.3)\n",
            "Requirement already satisfied: certifi>=2017.4.17 in /usr/local/lib/python3.10/dist-packages (from requests->kagglehub) (2024.8.30)\n",
            "Requirement already satisfied: pandas in /usr/local/lib/python3.10/dist-packages (2.2.2)\n",
            "Requirement already satisfied: numpy>=1.22.4 in /usr/local/lib/python3.10/dist-packages (from pandas) (1.26.4)\n",
            "Requirement already satisfied: python-dateutil>=2.8.2 in /usr/local/lib/python3.10/dist-packages (from pandas) (2.8.2)\n",
            "Requirement already satisfied: pytz>=2020.1 in /usr/local/lib/python3.10/dist-packages (from pandas) (2024.2)\n",
            "Requirement already satisfied: tzdata>=2022.7 in /usr/local/lib/python3.10/dist-packages (from pandas) (2024.2)\n",
            "Requirement already satisfied: six>=1.5 in /usr/local/lib/python3.10/dist-packages (from python-dateutil>=2.8.2->pandas) (1.16.0)\n",
            "Requirement already satisfied: spacy in /usr/local/lib/python3.10/dist-packages (3.7.5)\n",
            "Requirement already satisfied: spacy-legacy<3.1.0,>=3.0.11 in /usr/local/lib/python3.10/dist-packages (from spacy) (3.0.12)\n",
            "Requirement already satisfied: spacy-loggers<2.0.0,>=1.0.0 in /usr/local/lib/python3.10/dist-packages (from spacy) (1.0.5)\n",
            "Requirement already satisfied: murmurhash<1.1.0,>=0.28.0 in /usr/local/lib/python3.10/dist-packages (from spacy) (1.0.11)\n",
            "Requirement already satisfied: cymem<2.1.0,>=2.0.2 in /usr/local/lib/python3.10/dist-packages (from spacy) (2.0.10)\n",
            "Requirement already satisfied: preshed<3.1.0,>=3.0.2 in /usr/local/lib/python3.10/dist-packages (from spacy) (3.0.9)\n",
            "Requirement already satisfied: thinc<8.3.0,>=8.2.2 in /usr/local/lib/python3.10/dist-packages (from spacy) (8.2.5)\n",
            "Requirement already satisfied: wasabi<1.2.0,>=0.9.1 in /usr/local/lib/python3.10/dist-packages (from spacy) (1.1.3)\n",
            "Requirement already satisfied: srsly<3.0.0,>=2.4.3 in /usr/local/lib/python3.10/dist-packages (from spacy) (2.4.8)\n",
            "Requirement already satisfied: catalogue<2.1.0,>=2.0.6 in /usr/local/lib/python3.10/dist-packages (from spacy) (2.0.10)\n",
            "Requirement already satisfied: weasel<0.5.0,>=0.1.0 in /usr/local/lib/python3.10/dist-packages (from spacy) (0.4.1)\n",
            "Requirement already satisfied: typer<1.0.0,>=0.3.0 in /usr/local/lib/python3.10/dist-packages (from spacy) (0.15.0)\n",
            "Requirement already satisfied: tqdm<5.0.0,>=4.38.0 in /usr/local/lib/python3.10/dist-packages (from spacy) (4.66.6)\n",
            "Requirement already satisfied: requests<3.0.0,>=2.13.0 in /usr/local/lib/python3.10/dist-packages (from spacy) (2.32.3)\n",
            "Requirement already satisfied: pydantic!=1.8,!=1.8.1,<3.0.0,>=1.7.4 in /usr/local/lib/python3.10/dist-packages (from spacy) (2.10.3)\n",
            "Requirement already satisfied: jinja2 in /usr/local/lib/python3.10/dist-packages (from spacy) (3.1.4)\n",
            "Requirement already satisfied: setuptools in /usr/local/lib/python3.10/dist-packages (from spacy) (75.1.0)\n",
            "Requirement already satisfied: packaging>=20.0 in /usr/local/lib/python3.10/dist-packages (from spacy) (24.2)\n",
            "Requirement already satisfied: langcodes<4.0.0,>=3.2.0 in /usr/local/lib/python3.10/dist-packages (from spacy) (3.5.0)\n",
            "Requirement already satisfied: numpy>=1.19.0 in /usr/local/lib/python3.10/dist-packages (from spacy) (1.26.4)\n",
            "Requirement already satisfied: language-data>=1.2 in /usr/local/lib/python3.10/dist-packages (from langcodes<4.0.0,>=3.2.0->spacy) (1.3.0)\n",
            "Requirement already satisfied: annotated-types>=0.6.0 in /usr/local/lib/python3.10/dist-packages (from pydantic!=1.8,!=1.8.1,<3.0.0,>=1.7.4->spacy) (0.7.0)\n",
            "Requirement already satisfied: pydantic-core==2.27.1 in /usr/local/lib/python3.10/dist-packages (from pydantic!=1.8,!=1.8.1,<3.0.0,>=1.7.4->spacy) (2.27.1)\n",
            "Requirement already satisfied: typing-extensions>=4.12.2 in /usr/local/lib/python3.10/dist-packages (from pydantic!=1.8,!=1.8.1,<3.0.0,>=1.7.4->spacy) (4.12.2)\n",
            "Requirement already satisfied: charset-normalizer<4,>=2 in /usr/local/lib/python3.10/dist-packages (from requests<3.0.0,>=2.13.0->spacy) (3.4.0)\n",
            "Requirement already satisfied: idna<4,>=2.5 in /usr/local/lib/python3.10/dist-packages (from requests<3.0.0,>=2.13.0->spacy) (3.10)\n",
            "Requirement already satisfied: urllib3<3,>=1.21.1 in /usr/local/lib/python3.10/dist-packages (from requests<3.0.0,>=2.13.0->spacy) (2.2.3)\n",
            "Requirement already satisfied: certifi>=2017.4.17 in /usr/local/lib/python3.10/dist-packages (from requests<3.0.0,>=2.13.0->spacy) (2024.8.30)\n",
            "Requirement already satisfied: blis<0.8.0,>=0.7.8 in /usr/local/lib/python3.10/dist-packages (from thinc<8.3.0,>=8.2.2->spacy) (0.7.11)\n",
            "Requirement already satisfied: confection<1.0.0,>=0.0.1 in /usr/local/lib/python3.10/dist-packages (from thinc<8.3.0,>=8.2.2->spacy) (0.1.5)\n",
            "Requirement already satisfied: click>=8.0.0 in /usr/local/lib/python3.10/dist-packages (from typer<1.0.0,>=0.3.0->spacy) (8.1.7)\n",
            "Requirement already satisfied: shellingham>=1.3.0 in /usr/local/lib/python3.10/dist-packages (from typer<1.0.0,>=0.3.0->spacy) (1.5.4)\n",
            "Requirement already satisfied: rich>=10.11.0 in /usr/local/lib/python3.10/dist-packages (from typer<1.0.0,>=0.3.0->spacy) (13.9.4)\n",
            "Requirement already satisfied: cloudpathlib<1.0.0,>=0.7.0 in /usr/local/lib/python3.10/dist-packages (from weasel<0.5.0,>=0.1.0->spacy) (0.20.0)\n",
            "Requirement already satisfied: smart-open<8.0.0,>=5.2.1 in /usr/local/lib/python3.10/dist-packages (from weasel<0.5.0,>=0.1.0->spacy) (7.0.5)\n",
            "Requirement already satisfied: MarkupSafe>=2.0 in /usr/local/lib/python3.10/dist-packages (from jinja2->spacy) (3.0.2)\n",
            "Requirement already satisfied: marisa-trie>=1.1.0 in /usr/local/lib/python3.10/dist-packages (from language-data>=1.2->langcodes<4.0.0,>=3.2.0->spacy) (1.2.1)\n",
            "Requirement already satisfied: markdown-it-py>=2.2.0 in /usr/local/lib/python3.10/dist-packages (from rich>=10.11.0->typer<1.0.0,>=0.3.0->spacy) (3.0.0)\n",
            "Requirement already satisfied: pygments<3.0.0,>=2.13.0 in /usr/local/lib/python3.10/dist-packages (from rich>=10.11.0->typer<1.0.0,>=0.3.0->spacy) (2.18.0)\n",
            "Requirement already satisfied: wrapt in /usr/local/lib/python3.10/dist-packages (from smart-open<8.0.0,>=5.2.1->weasel<0.5.0,>=0.1.0->spacy) (1.17.0)\n",
            "Requirement already satisfied: mdurl~=0.1 in /usr/local/lib/python3.10/dist-packages (from markdown-it-py>=2.2.0->rich>=10.11.0->typer<1.0.0,>=0.3.0->spacy) (0.1.2)\n",
            "Requirement already satisfied: matplotlib in /usr/local/lib/python3.10/dist-packages (3.8.0)\n",
            "Requirement already satisfied: contourpy>=1.0.1 in /usr/local/lib/python3.10/dist-packages (from matplotlib) (1.3.1)\n",
            "Requirement already satisfied: cycler>=0.10 in /usr/local/lib/python3.10/dist-packages (from matplotlib) (0.12.1)\n",
            "Requirement already satisfied: fonttools>=4.22.0 in /usr/local/lib/python3.10/dist-packages (from matplotlib) (4.55.1)\n",
            "Requirement already satisfied: kiwisolver>=1.0.1 in /usr/local/lib/python3.10/dist-packages (from matplotlib) (1.4.7)\n",
            "Requirement already satisfied: numpy<2,>=1.21 in /usr/local/lib/python3.10/dist-packages (from matplotlib) (1.26.4)\n",
            "Requirement already satisfied: packaging>=20.0 in /usr/local/lib/python3.10/dist-packages (from matplotlib) (24.2)\n",
            "Requirement already satisfied: pillow>=6.2.0 in /usr/local/lib/python3.10/dist-packages (from matplotlib) (11.0.0)\n",
            "Requirement already satisfied: pyparsing>=2.3.1 in /usr/local/lib/python3.10/dist-packages (from matplotlib) (3.2.0)\n",
            "Requirement already satisfied: python-dateutil>=2.7 in /usr/local/lib/python3.10/dist-packages (from matplotlib) (2.8.2)\n",
            "Requirement already satisfied: six>=1.5 in /usr/local/lib/python3.10/dist-packages (from python-dateutil>=2.7->matplotlib) (1.16.0)\n",
            "Collecting en-core-web-sm==3.7.1\n",
            "  Downloading https://github.com/explosion/spacy-models/releases/download/en_core_web_sm-3.7.1/en_core_web_sm-3.7.1-py3-none-any.whl (12.8 MB)\n",
            "\u001b[2K     \u001b[90m━━━━━━━━━━━━━━━━━━━━━━━━━━━━━━━━━━━━━━━━\u001b[0m \u001b[32m12.8/12.8 MB\u001b[0m \u001b[31m80.4 MB/s\u001b[0m eta \u001b[36m0:00:00\u001b[0m\n",
            "\u001b[?25hRequirement already satisfied: spacy<3.8.0,>=3.7.2 in /usr/local/lib/python3.10/dist-packages (from en-core-web-sm==3.7.1) (3.7.5)\n",
            "Requirement already satisfied: spacy-legacy<3.1.0,>=3.0.11 in /usr/local/lib/python3.10/dist-packages (from spacy<3.8.0,>=3.7.2->en-core-web-sm==3.7.1) (3.0.12)\n",
            "Requirement already satisfied: spacy-loggers<2.0.0,>=1.0.0 in /usr/local/lib/python3.10/dist-packages (from spacy<3.8.0,>=3.7.2->en-core-web-sm==3.7.1) (1.0.5)\n",
            "Requirement already satisfied: murmurhash<1.1.0,>=0.28.0 in /usr/local/lib/python3.10/dist-packages (from spacy<3.8.0,>=3.7.2->en-core-web-sm==3.7.1) (1.0.11)\n",
            "Requirement already satisfied: cymem<2.1.0,>=2.0.2 in /usr/local/lib/python3.10/dist-packages (from spacy<3.8.0,>=3.7.2->en-core-web-sm==3.7.1) (2.0.10)\n",
            "Requirement already satisfied: preshed<3.1.0,>=3.0.2 in /usr/local/lib/python3.10/dist-packages (from spacy<3.8.0,>=3.7.2->en-core-web-sm==3.7.1) (3.0.9)\n",
            "Requirement already satisfied: thinc<8.3.0,>=8.2.2 in /usr/local/lib/python3.10/dist-packages (from spacy<3.8.0,>=3.7.2->en-core-web-sm==3.7.1) (8.2.5)\n",
            "Requirement already satisfied: wasabi<1.2.0,>=0.9.1 in /usr/local/lib/python3.10/dist-packages (from spacy<3.8.0,>=3.7.2->en-core-web-sm==3.7.1) (1.1.3)\n",
            "Requirement already satisfied: srsly<3.0.0,>=2.4.3 in /usr/local/lib/python3.10/dist-packages (from spacy<3.8.0,>=3.7.2->en-core-web-sm==3.7.1) (2.4.8)\n",
            "Requirement already satisfied: catalogue<2.1.0,>=2.0.6 in /usr/local/lib/python3.10/dist-packages (from spacy<3.8.0,>=3.7.2->en-core-web-sm==3.7.1) (2.0.10)\n",
            "Requirement already satisfied: weasel<0.5.0,>=0.1.0 in /usr/local/lib/python3.10/dist-packages (from spacy<3.8.0,>=3.7.2->en-core-web-sm==3.7.1) (0.4.1)\n",
            "Requirement already satisfied: typer<1.0.0,>=0.3.0 in /usr/local/lib/python3.10/dist-packages (from spacy<3.8.0,>=3.7.2->en-core-web-sm==3.7.1) (0.15.0)\n",
            "Requirement already satisfied: tqdm<5.0.0,>=4.38.0 in /usr/local/lib/python3.10/dist-packages (from spacy<3.8.0,>=3.7.2->en-core-web-sm==3.7.1) (4.66.6)\n",
            "Requirement already satisfied: requests<3.0.0,>=2.13.0 in /usr/local/lib/python3.10/dist-packages (from spacy<3.8.0,>=3.7.2->en-core-web-sm==3.7.1) (2.32.3)\n",
            "Requirement already satisfied: pydantic!=1.8,!=1.8.1,<3.0.0,>=1.7.4 in /usr/local/lib/python3.10/dist-packages (from spacy<3.8.0,>=3.7.2->en-core-web-sm==3.7.1) (2.10.3)\n",
            "Requirement already satisfied: jinja2 in /usr/local/lib/python3.10/dist-packages (from spacy<3.8.0,>=3.7.2->en-core-web-sm==3.7.1) (3.1.4)\n",
            "Requirement already satisfied: setuptools in /usr/local/lib/python3.10/dist-packages (from spacy<3.8.0,>=3.7.2->en-core-web-sm==3.7.1) (75.1.0)\n",
            "Requirement already satisfied: packaging>=20.0 in /usr/local/lib/python3.10/dist-packages (from spacy<3.8.0,>=3.7.2->en-core-web-sm==3.7.1) (24.2)\n",
            "Requirement already satisfied: langcodes<4.0.0,>=3.2.0 in /usr/local/lib/python3.10/dist-packages (from spacy<3.8.0,>=3.7.2->en-core-web-sm==3.7.1) (3.5.0)\n",
            "Requirement already satisfied: numpy>=1.19.0 in /usr/local/lib/python3.10/dist-packages (from spacy<3.8.0,>=3.7.2->en-core-web-sm==3.7.1) (1.26.4)\n",
            "Requirement already satisfied: language-data>=1.2 in /usr/local/lib/python3.10/dist-packages (from langcodes<4.0.0,>=3.2.0->spacy<3.8.0,>=3.7.2->en-core-web-sm==3.7.1) (1.3.0)\n",
            "Requirement already satisfied: annotated-types>=0.6.0 in /usr/local/lib/python3.10/dist-packages (from pydantic!=1.8,!=1.8.1,<3.0.0,>=1.7.4->spacy<3.8.0,>=3.7.2->en-core-web-sm==3.7.1) (0.7.0)\n",
            "Requirement already satisfied: pydantic-core==2.27.1 in /usr/local/lib/python3.10/dist-packages (from pydantic!=1.8,!=1.8.1,<3.0.0,>=1.7.4->spacy<3.8.0,>=3.7.2->en-core-web-sm==3.7.1) (2.27.1)\n",
            "Requirement already satisfied: typing-extensions>=4.12.2 in /usr/local/lib/python3.10/dist-packages (from pydantic!=1.8,!=1.8.1,<3.0.0,>=1.7.4->spacy<3.8.0,>=3.7.2->en-core-web-sm==3.7.1) (4.12.2)\n",
            "Requirement already satisfied: charset-normalizer<4,>=2 in /usr/local/lib/python3.10/dist-packages (from requests<3.0.0,>=2.13.0->spacy<3.8.0,>=3.7.2->en-core-web-sm==3.7.1) (3.4.0)\n",
            "Requirement already satisfied: idna<4,>=2.5 in /usr/local/lib/python3.10/dist-packages (from requests<3.0.0,>=2.13.0->spacy<3.8.0,>=3.7.2->en-core-web-sm==3.7.1) (3.10)\n",
            "Requirement already satisfied: urllib3<3,>=1.21.1 in /usr/local/lib/python3.10/dist-packages (from requests<3.0.0,>=2.13.0->spacy<3.8.0,>=3.7.2->en-core-web-sm==3.7.1) (2.2.3)\n",
            "Requirement already satisfied: certifi>=2017.4.17 in /usr/local/lib/python3.10/dist-packages (from requests<3.0.0,>=2.13.0->spacy<3.8.0,>=3.7.2->en-core-web-sm==3.7.1) (2024.8.30)\n",
            "Requirement already satisfied: blis<0.8.0,>=0.7.8 in /usr/local/lib/python3.10/dist-packages (from thinc<8.3.0,>=8.2.2->spacy<3.8.0,>=3.7.2->en-core-web-sm==3.7.1) (0.7.11)\n",
            "Requirement already satisfied: confection<1.0.0,>=0.0.1 in /usr/local/lib/python3.10/dist-packages (from thinc<8.3.0,>=8.2.2->spacy<3.8.0,>=3.7.2->en-core-web-sm==3.7.1) (0.1.5)\n",
            "Requirement already satisfied: click>=8.0.0 in /usr/local/lib/python3.10/dist-packages (from typer<1.0.0,>=0.3.0->spacy<3.8.0,>=3.7.2->en-core-web-sm==3.7.1) (8.1.7)\n",
            "Requirement already satisfied: shellingham>=1.3.0 in /usr/local/lib/python3.10/dist-packages (from typer<1.0.0,>=0.3.0->spacy<3.8.0,>=3.7.2->en-core-web-sm==3.7.1) (1.5.4)\n",
            "Requirement already satisfied: rich>=10.11.0 in /usr/local/lib/python3.10/dist-packages (from typer<1.0.0,>=0.3.0->spacy<3.8.0,>=3.7.2->en-core-web-sm==3.7.1) (13.9.4)\n",
            "Requirement already satisfied: cloudpathlib<1.0.0,>=0.7.0 in /usr/local/lib/python3.10/dist-packages (from weasel<0.5.0,>=0.1.0->spacy<3.8.0,>=3.7.2->en-core-web-sm==3.7.1) (0.20.0)\n",
            "Requirement already satisfied: smart-open<8.0.0,>=5.2.1 in /usr/local/lib/python3.10/dist-packages (from weasel<0.5.0,>=0.1.0->spacy<3.8.0,>=3.7.2->en-core-web-sm==3.7.1) (7.0.5)\n",
            "Requirement already satisfied: MarkupSafe>=2.0 in /usr/local/lib/python3.10/dist-packages (from jinja2->spacy<3.8.0,>=3.7.2->en-core-web-sm==3.7.1) (3.0.2)\n",
            "Requirement already satisfied: marisa-trie>=1.1.0 in /usr/local/lib/python3.10/dist-packages (from language-data>=1.2->langcodes<4.0.0,>=3.2.0->spacy<3.8.0,>=3.7.2->en-core-web-sm==3.7.1) (1.2.1)\n",
            "Requirement already satisfied: markdown-it-py>=2.2.0 in /usr/local/lib/python3.10/dist-packages (from rich>=10.11.0->typer<1.0.0,>=0.3.0->spacy<3.8.0,>=3.7.2->en-core-web-sm==3.7.1) (3.0.0)\n",
            "Requirement already satisfied: pygments<3.0.0,>=2.13.0 in /usr/local/lib/python3.10/dist-packages (from rich>=10.11.0->typer<1.0.0,>=0.3.0->spacy<3.8.0,>=3.7.2->en-core-web-sm==3.7.1) (2.18.0)\n",
            "Requirement already satisfied: wrapt in /usr/local/lib/python3.10/dist-packages (from smart-open<8.0.0,>=5.2.1->weasel<0.5.0,>=0.1.0->spacy<3.8.0,>=3.7.2->en-core-web-sm==3.7.1) (1.17.0)\n",
            "Requirement already satisfied: mdurl~=0.1 in /usr/local/lib/python3.10/dist-packages (from markdown-it-py>=2.2.0->rich>=10.11.0->typer<1.0.0,>=0.3.0->spacy<3.8.0,>=3.7.2->en-core-web-sm==3.7.1) (0.1.2)\n",
            "\u001b[38;5;2m✔ Download and installation successful\u001b[0m\n",
            "You can now load the package via spacy.load('en_core_web_sm')\n",
            "\u001b[38;5;3m⚠ Restart to reload dependencies\u001b[0m\n",
            "If you are in a Jupyter or Colab notebook, you may need to restart Python in\n",
            "order to load all the package's dependencies. You can do this by selecting the\n",
            "'Restart kernel' or 'Restart runtime' option.\n"
          ]
        }
      ]
    },
    {
      "cell_type": "markdown",
      "source": [
        "## Load the Dataset\n",
        "In this step, we will:\n",
        "1. Download the Amazon product reviews dataset using the `kagglehub` library.\n",
        "2. Load the dataset into a Pandas DataFrame for analysis.\n",
        "3. Display basic information about the dataset, such as:\n",
        "   - Column names and data types.\n",
        "   - Missing values in the dataset.\n",
        "   - Preview of the first few rows.\n",
        "\n",
        "Understanding the structure and content of the dataset is essential for preparing and analyzing the data effectively.\n"
      ],
      "metadata": {
        "id": "HmWbrTfr5RJu"
      }
    },
    {
      "cell_type": "code",
      "source": [
        "# Use kagglehub to download the dataset\n",
        "import kagglehub\n",
        "\n",
        "# Download the dataset\n",
        "path = kagglehub.dataset_download(\"arhamrumi/amazon-product-reviews\")\n",
        "\n",
        "# Load the dataset\n",
        "file_path = os.path.join(path, \"Reviews.csv\")\n",
        "reviews_df = pd.read_csv(file_path)\n",
        "\n",
        "# Display dataset info and preview\n",
        "print(\"Dataset Info:\")\n",
        "print(reviews_df.info())\n",
        "print(\"\\nDataset Preview:\")\n",
        "print(reviews_df.head())\n"
      ],
      "metadata": {
        "colab": {
          "base_uri": "https://localhost:8080/"
        },
        "id": "5y9rk78U5osp",
        "outputId": "5227ada9-e790-496a-f76f-c14b1bfddad2"
      },
      "execution_count": 2,
      "outputs": [
        {
          "output_type": "stream",
          "name": "stdout",
          "text": [
            "Downloading from https://www.kaggle.com/api/v1/datasets/download/arhamrumi/amazon-product-reviews?dataset_version_number=1...\n"
          ]
        },
        {
          "output_type": "stream",
          "name": "stderr",
          "text": [
            "100%|██████████| 115M/115M [00:01<00:00, 109MB/s]"
          ]
        },
        {
          "output_type": "stream",
          "name": "stdout",
          "text": [
            "Extracting files...\n"
          ]
        },
        {
          "output_type": "stream",
          "name": "stderr",
          "text": [
            "\n"
          ]
        },
        {
          "output_type": "stream",
          "name": "stdout",
          "text": [
            "Dataset Info:\n",
            "<class 'pandas.core.frame.DataFrame'>\n",
            "RangeIndex: 568454 entries, 0 to 568453\n",
            "Data columns (total 10 columns):\n",
            " #   Column                  Non-Null Count   Dtype \n",
            "---  ------                  --------------   ----- \n",
            " 0   Id                      568454 non-null  int64 \n",
            " 1   ProductId               568454 non-null  object\n",
            " 2   UserId                  568454 non-null  object\n",
            " 3   ProfileName             568428 non-null  object\n",
            " 4   HelpfulnessNumerator    568454 non-null  int64 \n",
            " 5   HelpfulnessDenominator  568454 non-null  int64 \n",
            " 6   Score                   568454 non-null  int64 \n",
            " 7   Time                    568454 non-null  int64 \n",
            " 8   Summary                 568427 non-null  object\n",
            " 9   Text                    568454 non-null  object\n",
            "dtypes: int64(5), object(5)\n",
            "memory usage: 43.4+ MB\n",
            "None\n",
            "\n",
            "Dataset Preview:\n",
            "   Id   ProductId          UserId                      ProfileName  \\\n",
            "0   1  B001E4KFG0  A3SGXH7AUHU8GW                       delmartian   \n",
            "1   2  B00813GRG4  A1D87F6ZCVE5NK                           dll pa   \n",
            "2   3  B000LQOCH0   ABXLMWJIXXAIN  Natalia Corres \"Natalia Corres\"   \n",
            "3   4  B000UA0QIQ  A395BORC6FGVXV                             Karl   \n",
            "4   5  B006K2ZZ7K  A1UQRSCLF8GW1T    Michael D. Bigham \"M. Wassir\"   \n",
            "\n",
            "   HelpfulnessNumerator  HelpfulnessDenominator  Score        Time  \\\n",
            "0                     1                       1      5  1303862400   \n",
            "1                     0                       0      1  1346976000   \n",
            "2                     1                       1      4  1219017600   \n",
            "3                     3                       3      2  1307923200   \n",
            "4                     0                       0      5  1350777600   \n",
            "\n",
            "                 Summary                                               Text  \n",
            "0  Good Quality Dog Food  I have bought several of the Vitality canned d...  \n",
            "1      Not as Advertised  Product arrived labeled as Jumbo Salted Peanut...  \n",
            "2  \"Delight\" says it all  This is a confection that has been around a fe...  \n",
            "3         Cough Medicine  If you are looking for the secret ingredient i...  \n",
            "4            Great taffy  Great taffy at a great price.  There was a wid...  \n"
          ]
        }
      ]
    },
    {
      "cell_type": "markdown",
      "source": [
        "## Results: Dataset Information and Preview\n",
        "\n",
        "### Dataset Successfully Loaded\n",
        "The Amazon product reviews dataset was successfully downloaded and loaded into a Pandas DataFrame. Below are the key details of the dataset:\n",
        "\n",
        "### Dataset Information\n",
        "- **Number of Entries**: 568,454\n",
        "- **Columns**: 10\n",
        "  - `Id`: Unique identifier for each review.\n",
        "  - `ProductId`: Identifier for the product reviewed.\n",
        "  - `UserId`: Identifier for the user who left the review.\n",
        "  - `ProfileName`: Display name of the user.\n",
        "  - `HelpfulnessNumerator`: Number of users who found the review helpful.\n",
        "  - `HelpfulnessDenominator`: Total number of users who rated the review's helpfulness.\n",
        "  - `Score`: Rating given to the product (1 to 5 stars).\n",
        "  - `Time`: Timestamp for when the review was submitted.\n",
        "  - `Summary`: Short summary of the review.\n",
        "  - `Text`: Full text of the review.\n",
        "\n",
        "### Dataset Summary\n",
        "- **Memory Usage**: 43.4 MB\n",
        "- **Data Types**:\n",
        "  - 5 columns with integer values (`Score`, `HelpfulnessNumerator`).\n",
        "  - 5 columns with string or object values (`Text`, `Summary`).\n",
        "\n",
        "### Preview of the Data\n",
        "Below are the first five rows of the dataset:\n",
        "1. A review with a 5-star rating for a dog food product praising its quality.\n",
        "2. A 1-star review for a mislabeled product with user dissatisfaction.\n",
        "3. A 4-star review for a confection described as delightful.\n",
        "4. A 2-star review for a cough medicine product expressing dissatisfaction.\n",
        "5. A 5-star review for taffy, noting its good quality and variety.\n",
        "\n",
        "This detailed dataset preview provides a foundational understanding for further preprocessing and analysis.\n"
      ],
      "metadata": {
        "id": "6duXkwsQ6BRk"
      }
    },
    {
      "cell_type": "markdown",
      "source": [
        "## Data Cleaning and Preprocessing\n",
        "In this step, we will:\n",
        "1. Remove unnecessary columns from the dataset to focus on relevant information (`Text`, `Score`).\n",
        "2. Handle missing values by dropping rows with null values in the selected columns.\n",
        "3. Create a new column `Sentiment` based on the `Score`:\n",
        "   - `Score <= 2`: Negative Sentiment.\n",
        "   - `Score == 3`: Neutral Sentiment.\n",
        "   - `Score >= 4`: Positive Sentiment.\n",
        "4. Preprocess the `Text` column to prepare it for analysis:\n",
        "   - Convert text to lowercase.\n",
        "   - Remove punctuation and stopwords.\n",
        "   - Tokenize the text into words.\n",
        "   - Lemmatize words to their root forms.\n",
        "\n",
        "Cleaning and preprocessing the data ensures the dataset is consistent, accurate, and ready for meaningful analysis.\n",
        "By categorizing sentiments, we enable deeper insights into customer feedback trends.\n"
      ],
      "metadata": {
        "id": "vV1DfEoc6yiu"
      }
    },
    {
      "cell_type": "code",
      "source": [
        "import string\n",
        "from spacy.lang.en import STOP_WORDS\n",
        "\n",
        "# Reduce the dataset for testing (process only the first 5,000 rows)\n",
        "reviews_df = reviews_df.head(5000)\n",
        "\n",
        "# Drop unnecessary columns\n",
        "reviews_df = reviews_df[['Text', 'Score']]\n",
        "\n",
        "# Drop rows with missing values in relevant columns\n",
        "reviews_df = reviews_df.dropna(subset=['Text', 'Score'])\n",
        "\n",
        "# Create sentiment labels based on 'Score'\n",
        "def assign_sentiment(score):\n",
        "    if score <= 2:\n",
        "        return \"Negative\"\n",
        "    elif score == 3:\n",
        "        return \"Neutral\"\n",
        "    else:\n",
        "        return \"Positive\"\n",
        "\n",
        "reviews_df['Sentiment'] = reviews_df['Score'].apply(assign_sentiment)\n",
        "\n",
        "# Simplified Preprocessing for 'Text'\n",
        "stop_words = set(STOP_WORDS)\n",
        "\n",
        "def preprocess_text_simple(text):\n",
        "    # Convert text to lowercase\n",
        "    text = text.lower()\n",
        "    # Remove punctuation\n",
        "    text = text.translate(str.maketrans('', '', string.punctuation))\n",
        "    # Remove stopwords\n",
        "    words = [word for word in text.split() if word not in stop_words]\n",
        "    return ' '.join(words)\n",
        "\n",
        "reviews_df['Cleaned_Text'] = reviews_df['Text'].apply(preprocess_text_simple)\n",
        "\n",
        "# Display the first few rows of the cleaned dataset\n",
        "print(\"Cleaned Dataset Preview:\")\n",
        "print(reviews_df.head())\n",
        "\n",
        "# Display the sentiment label distribution\n",
        "print(\"\\nSentiment Label Distribution:\")\n",
        "print(reviews_df['Sentiment'].value_counts())\n"
      ],
      "metadata": {
        "colab": {
          "base_uri": "https://localhost:8080/"
        },
        "id": "HwfNzl3v7InR",
        "outputId": "25865a98-7500-4a9b-9d8b-b7c95cbd23cf"
      },
      "execution_count": 6,
      "outputs": [
        {
          "output_type": "stream",
          "name": "stdout",
          "text": [
            "Cleaned Dataset Preview:\n",
            "                                                Text  Score Sentiment  \\\n",
            "0  I have bought several of the Vitality canned d...      5  Positive   \n",
            "1  Product arrived labeled as Jumbo Salted Peanut...      1  Negative   \n",
            "2  This is a confection that has been around a fe...      4  Positive   \n",
            "3  If you are looking for the secret ingredient i...      2  Negative   \n",
            "4  Great taffy at a great price.  There was a wid...      5  Positive   \n",
            "\n",
            "                                        Cleaned_Text  \n",
            "0  bought vitality canned dog food products found...  \n",
            "1  product arrived labeled jumbo salted peanutsth...  \n",
            "2  confection centuries light pillowy citrus gela...  \n",
            "3  looking secret ingredient robitussin believe f...  \n",
            "4  great taffy great price wide assortment yummy ...  \n",
            "\n",
            "Sentiment Label Distribution:\n",
            "Sentiment\n",
            "Positive    3846\n",
            "Negative     759\n",
            "Neutral      395\n",
            "Name: count, dtype: int64\n"
          ]
        }
      ]
    },
    {
      "cell_type": "markdown",
      "source": [
        "## Results: Dataset Cleaning and Sentiment Distribution\n",
        "\n",
        "### Cleaned Dataset Preview:\n",
        "- The dataset has been successfully preprocessed and reduced to a subset of **5,000 reviews** for faster processing.\n",
        "- Below is a preview of the cleaned dataset, showcasing the original review text, its corresponding sentiment score, assigned sentiment label, and cleaned text:\n",
        "  - **Original Text**: The raw customer reviews.\n",
        "  - **Score**: A numerical rating (1-5) provided by the customer.\n",
        "  - **Sentiment**: A new column created based on the score, categorized as:\n",
        "    - **Positive**: Scores of 4 or 5.\n",
        "    - **Neutral**: A score of 3.\n",
        "    - **Negative**: Scores of 1 or 2.\n",
        "  - **Cleaned_Text**: The preprocessed version of the original text, where punctuation, stopwords, and unnecessary words have been removed for better analysis.\n",
        "\n",
        "### Sentiment Label Distribution:\n",
        "- The distribution of sentiment labels in the dataset is as follows:\n",
        "  - **Positive**: 3,846 reviews.\n",
        "  - **Negative**: 759 reviews.\n",
        "  - **Neutral**: 395 reviews.\n",
        "\n",
        "\n",
        "- The dataset is skewed towards **Positive Sentiments**, with the majority of customer reviews having a favorable sentiment.\n",
        "- Neutral and Negative reviews make up a smaller proportion of the dataset.\n",
        "\n",
        "This information will be valuable for understanding overall customer feedback trends and performing sentiment-based analysis in subsequent steps.\n"
      ],
      "metadata": {
        "id": "JsO37A_y94OL"
      }
    },
    {
      "cell_type": "markdown",
      "source": [
        "## Visualize Sentiment Distribution\n",
        "\n",
        "In this step, we will create a bar chart to visualize the distribution of sentiment labels (Positive, Neutral, Negative) in the dataset.\n",
        "\n",
        "### Why Visualization is Important:\n",
        "- Helps us better understand the composition of customer feedback.\n",
        "- Provides a quick overview of the dataset's sentiment trends.\n",
        "- Aids in identifying potential imbalances in sentiment classes, which is important for model training and evaluation.\n",
        "\n",
        "### Visualization Details:\n",
        "- The x-axis will represent the sentiment categories (Positive, Neutral, Negative).\n",
        "- The y-axis will represent the count of reviews in each category.\n",
        "- This visualization will give us insights into how sentiments are distributed across the dataset.\n"
      ],
      "metadata": {
        "id": "rpvKrvYV-3Qm"
      }
    },
    {
      "cell_type": "code",
      "source": [
        "# Visualize Sentiment Distribution\n",
        "plt.figure(figsize=(8, 6))\n",
        "reviews_df['Sentiment'].value_counts().plot(kind='bar', color=['green', 'orange', 'red'])\n",
        "plt.title('Sentiment Distribution')\n",
        "plt.xlabel('Sentiment')\n",
        "plt.ylabel('Number of Reviews')\n",
        "plt.xticks(rotation=0)\n",
        "plt.show()\n"
      ],
      "metadata": {
        "colab": {
          "base_uri": "https://localhost:8080/",
          "height": 564
        },
        "id": "z7xtnH88-8Z3",
        "outputId": "bdb28f3f-e53f-42c3-8569-d8dc8e17052c"
      },
      "execution_count": 8,
      "outputs": [
        {
          "output_type": "display_data",
          "data": {
            "text/plain": [
              "<Figure size 800x600 with 1 Axes>"
            ],
            "image/png": "[encoded data removed]"
          },
          "metadata": {}
        }
      ]
    },
    {
      "cell_type": "markdown",
      "source": [
        "### Sentiment Distribution Results\n",
        "\n",
        "The bar chart above provides a clear visualization of the sentiment distribution in the dataset:\n",
        "\n",
        "- **Positive Sentiment**: The majority of the reviews are positive, indicating that most customers had a satisfactory or favorable experience.\n",
        "- **Negative Sentiment**: A smaller proportion of reviews express negative sentiment, which could represent dissatisfaction or poor customer experiences.\n",
        "- **Neutral Sentiment**: The smallest category consists of reviews with neutral sentiment, suggesting that these reviews might be mixed or lack strong opinions.\n",
        "\n",
        "### Key Observations:\n",
        "1. **Class Imbalance**: The dataset shows a significant class imbalance, with a much higher count of positive reviews compared to negative and neutral reviews. This will be important to address during the model training phase to ensure balanced predictions.\n",
        "2. **Business Insights**: The high proportion of positive reviews is encouraging, but the negative reviews should be further analyzed to identify potential areas for improvement.\n",
        "3. **Actionable Steps**: We will consider techniques such as oversampling or undersampling to manage the imbalance during model training and improve the model's robustness.\n",
        "\n",
        "This visualization provides valuable insights for preparing the dataset for feature extraction and model training in the upcoming steps.\n"
      ],
      "metadata": {
        "id": "rOefxj9n_gqn"
      }
    },
    {
      "cell_type": "markdown",
      "source": [
        "## Extract Features for Sentiment Analysis\n",
        "\n",
        "In this step, we will prepare the dataset for machine learning by extracting relevant features for sentiment classification.\n",
        "\n",
        "### Key Actions:\n",
        "1. **Convert Text to Features**: Use the `TfidfVectorizer` to transform the cleaned text into numerical feature vectors.\n",
        "   - `TF-IDF (Term Frequency-Inverse Document Frequency)` represents the importance of words in a text relative to the entire dataset, balancing frequent and rare words.\n",
        "   - This method captures the unique characteristics of the text data while reducing noise from overly common terms.\n",
        "\n",
        "2. **Prepare the Labels**: Encode the sentiment labels into numerical values.\n",
        "   - `Positive = 1`\n",
        "   - `Neutral = 0`\n",
        "   - `Negative = -1`\n",
        "\n",
        "By completing this step, we will generate a matrix of features (numerical) and their corresponding sentiment labels, which will be used for model training and evaluation.\n"
      ],
      "metadata": {
        "id": "h0fuzbD5ACIB"
      }
    },
    {
      "cell_type": "code",
      "source": [
        "from sklearn.feature_extraction.text import TfidfVectorizer\n",
        "from sklearn.preprocessing import LabelEncoder\n",
        "\n",
        "# Convert cleaned text to numerical feature vectors using TF-IDF\n",
        "tfidf_vectorizer = TfidfVectorizer(max_features=5000, stop_words='english')\n",
        "X = tfidf_vectorizer.fit_transform(reviews_df['Cleaned_Text']).toarray()\n",
        "\n",
        "# Encode sentiment labels into numerical values\n",
        "label_encoder = LabelEncoder()\n",
        "y = label_encoder.fit_transform(reviews_df['Sentiment'])\n",
        "\n",
        "# Display the shape of the feature matrix and labels\n",
        "print(f\"Feature matrix shape: {X.shape}\")\n",
        "print(f\"Labels shape: {y.shape}\")\n"
      ],
      "metadata": {
        "colab": {
          "base_uri": "https://localhost:8080/"
        },
        "id": "C-qZWx0mAM-R",
        "outputId": "d3e8dcd3-3642-4b2e-ad4e-6ad80895f1ce"
      },
      "execution_count": 9,
      "outputs": [
        {
          "output_type": "stream",
          "name": "stdout",
          "text": [
            "Feature matrix shape: (5000, 5000)\n",
            "Labels shape: (5000,)\n"
          ]
        }
      ]
    },
    {
      "cell_type": "markdown",
      "source": [
        "### Explanation of Results\n",
        "\n",
        "The results indicate that the text data and corresponding sentiment labels have been successfully prepared for model training:\n",
        "\n",
        "1. **Feature Matrix Shape (5000, 5000)**:\n",
        "   - The feature matrix consists of 5000 text samples (rows), where each row corresponds to a review.\n",
        "   - The `5000` columns represent the features generated by the `TfidfVectorizer`. Each feature is a unique word or term selected from the dataset. The matrix contains numerical representations of the reviews based on the importance of words within each review and across all reviews.\n",
        "\n",
        "2. **Labels Shape (5000,)**:\n",
        "   - The labels array contains the sentiment categories for all 5000 reviews. Each label corresponds to the sentiment of the respective review in the feature matrix.\n",
        "   - These labels are encoded as numerical values representing sentiments (e.g., Positive, Negative, or Neutral).\n",
        "\n",
        "This step ensures that the dataset is now in a suitable format for training a machine learning model. The feature matrix serves as the input data for the model, and the labels are the target output the model will learn to predict.\n"
      ],
      "metadata": {
        "id": "AatQ7bJpAsRm"
      }
    },
    {
      "cell_type": "markdown",
      "source": [
        "### Splitting the Dataset for Training and Testing\n",
        "\n",
        "In this step, we will:\n",
        "1. Split the feature matrix (`X`) and labels (`y`) into training and testing datasets.\n",
        "2. Use an 80/20 split:\n",
        "   - **Training Set**: 80% of the data will be used to train the machine learning model.\n",
        "   - **Testing Set**: 20% of the data will be reserved for evaluating the model's performance.\n",
        "3. Ensure that the data is shuffled during splitting to avoid any biases in the model caused by the order of the data.\n",
        "\n",
        "Splitting the data allows us to evaluate the model's ability to generalize to unseen data. The testing set acts as a proxy for real-world data, helping us measure the model's accuracy and effectiveness.\n"
      ],
      "metadata": {
        "id": "DNMT4pzoBEW2"
      }
    },
    {
      "cell_type": "code",
      "source": [
        "from sklearn.model_selection import train_test_split\n",
        "\n",
        "# Split the dataset into training and testing sets (80% training, 20% testing)\n",
        "X_train, X_test, y_train, y_test = train_test_split(\n",
        "    X, y, test_size=0.2, random_state=42, stratify=y\n",
        ")\n",
        "\n",
        "# Print the shape of the resulting datasets\n",
        "print(\"Training Feature Matrix Shape:\", X_train.shape)\n",
        "print(\"Testing Feature Matrix Shape:\", X_test.shape)\n",
        "print(\"Training Labels Shape:\", y_train.shape)\n",
        "print(\"Testing Labels Shape:\", y_test.shape)\n"
      ],
      "metadata": {
        "colab": {
          "base_uri": "https://localhost:8080/"
        },
        "id": "XMcOJGfnBdwV",
        "outputId": "26f4220e-1cca-4fab-bb3b-cde0577d9b60"
      },
      "execution_count": 10,
      "outputs": [
        {
          "output_type": "stream",
          "name": "stdout",
          "text": [
            "Training Feature Matrix Shape: (4000, 5000)\n",
            "Testing Feature Matrix Shape: (1000, 5000)\n",
            "Training Labels Shape: (4000,)\n",
            "Testing Labels Shape: (1000,)\n"
          ]
        }
      ]
    },
    {
      "cell_type": "markdown",
      "source": [
        "### Splitting the Dataset into Training and Testing Sets\n",
        "\n",
        "The dataset has been successfully split into training and testing sets using an 80-20 split. Below are the details:\n",
        "\n",
        "- **Training Feature Matrix Shape:** (4000, 5000)  \n",
        "  This means the training set consists of 4,000 reviews represented by 5,000 features (created from the text data during vectorization).\n",
        "\n",
        "- **Testing Feature Matrix Shape:** (1000, 5000)  \n",
        "  This indicates that the testing set includes 1,000 reviews, also represented by 5,000 features.\n",
        "\n",
        "- **Training Labels Shape:** (4000,)  \n",
        "  The training set includes 4,000 corresponding sentiment labels (Positive, Neutral, Negative) for the reviews.\n",
        "\n",
        "- **Testing Labels Shape:** (1000,)  \n",
        "  The testing set includes 1,000 corresponding sentiment labels for the reviews.\n",
        "\n",
        "This division ensures that the model will be trained on the training set and evaluated on the unseen testing set to assess its performance.\n"
      ],
      "metadata": {
        "id": "R09reALjCDMw"
      }
    },
    {
      "cell_type": "markdown",
      "source": [
        "### Building and Training the Sentiment Analysis Model\n",
        "\n",
        "In this step, we will:\n",
        "1. Use a **Multinomial Naive Bayes (MNB)** classifier, a commonly used model for text classification tasks, including sentiment analysis.\n",
        "2. Train the MNB model using the training feature matrix and sentiment labels.\n",
        "3. Output the time taken to train the model, which provides insights into computational efficiency.\n",
        "4. Prepare the model for evaluation on the testing set in subsequent steps.\n"
      ],
      "metadata": {
        "id": "D2KYMc9tCNbC"
      }
    },
    {
      "cell_type": "code",
      "source": [
        "from sklearn.naive_bayes import MultinomialNB\n",
        "import time\n",
        "\n",
        "# Initialize the Multinomial Naive Bayes classifier\n",
        "model = MultinomialNB()\n",
        "\n",
        "# Train the model and measure training time\n",
        "start_time = time.time()\n",
        "model.fit(X_train, y_train)\n",
        "end_time = time.time()\n",
        "\n",
        "# Output the training time\n",
        "print(f\"Training completed in {end_time - start_time:.2f} seconds\")\n"
      ],
      "metadata": {
        "colab": {
          "base_uri": "https://localhost:8080/"
        },
        "id": "SyWoQwvQCnzX",
        "outputId": "4d493107-d8a0-45f9-d740-2355542838fa"
      },
      "execution_count": 11,
      "outputs": [
        {
          "output_type": "stream",
          "name": "stdout",
          "text": [
            "Training completed in 0.08 seconds\n"
          ]
        }
      ]
    },
    {
      "cell_type": "markdown",
      "source": [
        "### Model Training Results\n",
        "\n",
        "The **Multinomial Naive Bayes (MNB)** classifier has been successfully trained on the provided training dataset.\n",
        "\n",
        "#### Key Information:\n",
        "- **Training Time**: The training process was completed in just **0.08 seconds**, demonstrating the efficiency of the Naive Bayes algorithm, especially with sparse datasets like our bag-of-words feature matrix.\n",
        "\n",
        "The model is now ready for evaluation on the testing dataset to measure its performance.\n"
      ],
      "metadata": {
        "id": "bZ6qX0TiC0ya"
      }
    },
    {
      "cell_type": "markdown",
      "source": [
        "### Model Evaluation: Assessing Performance on the Test Data\n",
        "\n",
        "In this step, we will evaluate the performance of our trained Multinomial Naive Bayes model on the test dataset. The evaluation will involve:\n",
        "\n",
        "1. **Predicting Sentiment Labels:** Using the trained model to predict sentiment labels (`Positive`, `Negative`, `Neutral`) for the test dataset.\n",
        "2. **Calculating Performance Metrics:**\n",
        "   - **Accuracy:** The proportion of correct predictions out of all predictions.\n",
        "   - **Precision:** The ability of the model to correctly identify positive instances.\n",
        "   - **Recall:** The ability of the model to find all positive instances.\n",
        "   - **F1-Score:** A balance between precision and recall.\n",
        "3. **Understanding Model Performance:** The metrics will help us understand the model's strengths and weaknesses in sentiment classification.\n",
        "\n",
        "This evaluation will give us insights into how well the model generalizes to unseen data and identify areas for improvement if necessary.\n"
      ],
      "metadata": {
        "id": "Ys6G8LftDR8X"
      }
    },
    {
      "cell_type": "code",
      "source": [
        "from sklearn.metrics import accuracy_score, classification_report\n",
        "\n",
        "# Predict the sentiment labels for the test dataset\n",
        "predicted_labels = model.predict(X_test)\n",
        "\n",
        "# Calculate and print the accuracy\n",
        "accuracy = accuracy_score(y_test, predicted_labels)\n",
        "print(f\"Model Accuracy: {accuracy:.2f}\")\n",
        "\n",
        "# Generate and print a classification report\n",
        "print(\"\\nClassification Report:\")\n",
        "print(classification_report(y_test, predicted_labels, target_names=['Negative', 'Neutral', 'Positive']))\n"
      ],
      "metadata": {
        "colab": {
          "base_uri": "https://localhost:8080/"
        },
        "id": "8Ou7JMLxDfyQ",
        "outputId": "0ab6d8c9-c349-4d3a-912e-1f98740fdfa5"
      },
      "execution_count": 12,
      "outputs": [
        {
          "output_type": "stream",
          "name": "stdout",
          "text": [
            "Model Accuracy: 0.77\n",
            "\n",
            "Classification Report:\n",
            "              precision    recall  f1-score   support\n",
            "\n",
            "    Negative       0.50      0.01      0.03       152\n",
            "     Neutral       0.00      0.00      0.00        79\n",
            "    Positive       0.77      1.00      0.87       769\n",
            "\n",
            "    accuracy                           0.77      1000\n",
            "   macro avg       0.42      0.34      0.30      1000\n",
            "weighted avg       0.67      0.77      0.67      1000\n",
            "\n"
          ]
        },
        {
          "output_type": "stream",
          "name": "stderr",
          "text": [
            "/usr/local/lib/python3.10/dist-packages/sklearn/metrics/_classification.py:1531: UndefinedMetricWarning: Precision is ill-defined and being set to 0.0 in labels with no predicted samples. Use `zero_division` parameter to control this behavior.\n",
            "  _warn_prf(average, modifier, f\"{metric.capitalize()} is\", len(result))\n",
            "/usr/local/lib/python3.10/dist-packages/sklearn/metrics/_classification.py:1531: UndefinedMetricWarning: Precision is ill-defined and being set to 0.0 in labels with no predicted samples. Use `zero_division` parameter to control this behavior.\n",
            "  _warn_prf(average, modifier, f\"{metric.capitalize()} is\", len(result))\n",
            "/usr/local/lib/python3.10/dist-packages/sklearn/metrics/_classification.py:1531: UndefinedMetricWarning: Precision is ill-defined and being set to 0.0 in labels with no predicted samples. Use `zero_division` parameter to control this behavior.\n",
            "  _warn_prf(average, modifier, f\"{metric.capitalize()} is\", len(result))\n"
          ]
        }
      ]
    },
    {
      "cell_type": "markdown",
      "source": [
        "### Model Evaluation Results\n",
        "\n",
        "1. **Model Accuracy**:  \n",
        "   The model achieved an accuracy of **77%**, indicating that 77% of the predicted sentiment labels matched the actual labels in the test dataset.\n",
        "\n",
        "2. **Classification Report**:  \n",
        "   The classification report provides detailed metrics for each sentiment category (Negative, Neutral, Positive):\n",
        "   - **Negative Sentiment**:\n",
        "     - Precision: 0.50 - This means 50% of the predicted \"Negative\" labels were correct.\n",
        "     - Recall: 0.01 - The model identified only 1% of the actual \"Negative\" labels.\n",
        "     - F1-score: 0.03 - The harmonic mean of precision and recall indicates poor performance for this class.\n",
        "   - **Neutral Sentiment**:\n",
        "     - Precision: 0.00 - The model did not predict any \"Neutral\" labels, leading to undefined precision.\n",
        "     - Recall: 0.00 - None of the actual \"Neutral\" labels were correctly identified.\n",
        "     - F1-score: 0.00 - Indicates the model performed poorly for this class.\n",
        "   - **Positive Sentiment**:\n",
        "     - Precision: 0.77 - The model correctly predicted 77% of the \"Positive\" labels.\n",
        "     - Recall: 1.00 - All actual \"Positive\" labels were correctly identified.\n",
        "     - F1-score: 0.87 - Indicates strong performance for this class.\n",
        "\n",
        "3. **Macro Average**:\n",
        "   - Precision: 0.42 - The average precision across all classes.\n",
        "   - Recall: 0.34 - The average recall across all classes.\n",
        "   - F1-score: 0.30 - The average F1-score across all classes.\n",
        "   These scores indicate that the model struggles with balanced performance across all sentiment categories.\n",
        "\n",
        "4. **Weighted Average**:\n",
        "   - Precision: 0.67 - Accounts for the support (number of instances) in each class.\n",
        "   - Recall: 0.77 - Weighted by the class distribution.\n",
        "   - F1-score: 0.67 - Reflects the overall model performance considering class imbalance.\n"
      ],
      "metadata": {
        "id": "UE2yEhVODt3E"
      }
    },
    {
      "cell_type": "markdown",
      "source": [
        "### Visualizing the Model's Performance\n",
        "\n",
        "In this step, we will create a visualization to better understand the performance of our sentiment analysis model.\n",
        "\n",
        "#### Objectives:\n",
        "1. Display a confusion matrix to evaluate how well the model predicted each sentiment class.\n",
        "2. Visualize the number of correctly and incorrectly classified samples for each sentiment.\n",
        "\n",
        "#### Why this is important:\n",
        "- A confusion matrix provides a more detailed view of the model's accuracy by showing which sentiments were predicted correctly and where errors occurred.\n",
        "- This visualization helps identify patterns or areas where the model might be struggling (e.g., confusion between Neutral and Negative sentiments).\n",
        "\n",
        "We will use the `confusion_matrix` function from Scikit-learn to compute the confusion matrix and Matplotlib to create the visualization.\n"
      ],
      "metadata": {
        "id": "ykd4qVL6EH-w"
      }
    },
    {
      "cell_type": "code",
      "source": [
        "# Recompute the predictions if y_pred is not defined\n",
        "y_pred = model.predict(X_test)\n",
        "\n",
        "# Convert the numerical predictions back to their sentiment labels\n",
        "y_pred = label_encoder.inverse_transform(y_pred)\n",
        "\n",
        "# Ensure both y_test and y_pred are strings\n",
        "y_test = [str(label) for label in y_test]\n",
        "y_pred = [str(label) for label in y_pred]\n",
        "\n",
        "# Identify the unique classes present in both y_test and y_pred\n",
        "unique_labels = sorted(list(set(y_test).union(set(y_pred))))\n",
        "\n",
        "from sklearn.metrics import confusion_matrix, ConfusionMatrixDisplay\n",
        "\n",
        "# Compute the confusion matrix\n",
        "conf_matrix = confusion_matrix(y_test, y_pred, labels=unique_labels)\n",
        "\n",
        "# Create a confusion matrix display\n",
        "disp = ConfusionMatrixDisplay(confusion_matrix=conf_matrix, display_labels=unique_labels)\n",
        "\n",
        "# Plot the confusion matrix\n",
        "disp.plot(cmap='Blues')\n",
        "plt.title('Confusion Matrix for Sentiment Analysis')\n",
        "plt.show()\n",
        "\n"
      ],
      "metadata": {
        "colab": {
          "base_uri": "https://localhost:8080/",
          "height": 472
        },
        "id": "FjEqxul-EQ-E",
        "outputId": "4d96e9fd-ed5b-4025-d64d-2531ccf451df"
      },
      "execution_count": 16,
      "outputs": [
        {
          "output_type": "display_data",
          "data": {
            "text/plain": [
              "<Figure size 640x480 with 2 Axes>"
            ],
            "image/png": "[encoded data removed]"
          },
          "metadata": {}
        }
      ]
    },
    {
      "cell_type": "markdown",
      "source": [
        "### Confusion Matrix for Sentiment Analysis\n",
        "\n",
        "The confusion matrix provides a detailed visualization of the model's performance by comparing the actual sentiment labels (`True label`) with the predicted sentiment labels (`Predicted label`).\n",
        "\n",
        "#### Key Observations:\n",
        "- **True Positive Rate for Positive Sentiment**: The majority of the correctly classified reviews are in the `Positive` category (767 correctly classified as `Positive`).\n",
        "- **Misclassification**:\n",
        "  - Most of the `Negative` reviews were incorrectly classified as `Positive` (150 misclassified).\n",
        "  - All `Neutral` reviews were misclassified, primarily as `Positive`.\n",
        "- **True Negative and Neutral Detection**: The model struggles to identify `Negative` and `Neutral` sentiments accurately, as no predictions were made for these categories.\n",
        "\n",
        "#### Color Map:\n",
        "- The intensity of the blue color in each cell indicates the frequency of observations for that specific prediction category. Darker cells represent higher frequencies.\n",
        "\n",
        "This confusion matrix reveals a strong bias in the model toward predicting `Positive` sentiment, which aligns with the imbalanced dataset observed earlier. Future improvements could include balancing the dataset or experimenting with different models and techniques to improve the detection of `Negative` and `Neutral` sentiments.\n"
      ],
      "metadata": {
        "id": "ur4Q5M9hFgSK"
      }
    },
    {
      "cell_type": "markdown",
      "source": [
        "### Hyperparameter Tuning for Logistic Regression\n",
        "\n",
        "To improve the model's performance, we are conducting hyperparameter tuning using GridSearchCV. This step tests various values of the regularization parameter `C` to identify the configuration that maximizes performance.\n",
        "\n",
        "This process ensures the model generalizes well to unseen data and avoids overfitting or underfitting.\n"
      ],
      "metadata": {
        "id": "sfiLNW57GW8u"
      }
    },
    {
      "cell_type": "code",
      "source": [
        "from sklearn.linear_model import LogisticRegression  # Import Logistic Regression\n",
        "from sklearn.model_selection import GridSearchCV\n",
        "from sklearn.metrics import accuracy_score\n",
        "\n",
        "# Define a smaller parameter grid\n",
        "param_grid = {'C': [0.1, 1, 10]}  # Reduced grid for faster execution\n",
        "\n",
        "# Initialize Logistic Regression\n",
        "log_reg = LogisticRegression(max_iter=1000)\n",
        "\n",
        "# Initialize GridSearchCV with reduced folds\n",
        "grid_search = GridSearchCV(estimator=log_reg, param_grid=param_grid, scoring='accuracy', cv=3, verbose=1)\n",
        "\n",
        "# Use a smaller subset of the training data\n",
        "subset_size = 1000  # Adjust the size based on system capacity\n",
        "X_train_subset = X_train[:subset_size]\n",
        "y_train_subset = y_train[:subset_size]\n",
        "\n",
        "# Perform Grid Search on the subset\n",
        "grid_search.fit(X_train_subset, y_train_subset)\n",
        "\n",
        "# Display the best parameter and corresponding score\n",
        "print(\"Best Parameter for Logistic Regression:\", grid_search.best_params_)\n",
        "print(\"Best Cross-Validation Score:\", grid_search.best_score_)\n",
        "\n",
        "# Train the model with the best parameter\n",
        "best_log_reg = grid_search.best_estimator_\n",
        "\n",
        "# Evaluate the tuned model on the test set\n",
        "y_pred_tuned = best_log_reg.predict(X_test)\n",
        "print(\"Tuned Model Accuracy:\", accuracy_score(y_test, y_pred_tuned))\n"
      ],
      "metadata": {
        "colab": {
          "base_uri": "https://localhost:8080/"
        },
        "id": "P94S9QcwGdxa",
        "outputId": "39781f2f-8fdc-40fd-d989-da25874a4b09"
      },
      "execution_count": 20,
      "outputs": [
        {
          "output_type": "stream",
          "name": "stdout",
          "text": [
            "Fitting 3 folds for each of 3 candidates, totalling 9 fits\n",
            "Best Parameter for Logistic Regression: {'C': 10}\n",
            "Best Cross-Validation Score: 0.8030036024048001\n",
            "Tuned Model Accuracy: 0.0\n"
          ]
        }
      ]
    },
    {
      "cell_type": "markdown",
      "source": [
        "### **Model Improvement Results: Logistic Regression Tuning**\n",
        "\n",
        "This step involved improving the Logistic Regression model by performing hyperparameter tuning using `GridSearchCV`. The following results were obtained:\n",
        "\n",
        "1. **Best Parameter for Logistic Regression**:\n",
        "   - The best value for the regularization parameter `C` is `{C: 10}`. This indicates that a higher regularization strength was optimal for the dataset.\n",
        "\n",
        "2. **Best Cross-Validation Score**:\n",
        "   - The best average accuracy across the 3-fold cross-validation is `0.803`. This shows that the model performed well during the training and validation phase with the tuned parameter.\n",
        "\n",
        "3. **Tuned Model Accuracy**:\n",
        "   - The accuracy of the tuned model on the test set is `0.0`. This unexpected result indicates a potential issue, such as misalignment between the model's prediction labels and the test labels. This will need to be investigated and resolved in the next steps.\n",
        "\n"
      ],
      "metadata": {
        "id": "XhtuHQtWHYDb"
      }
    },
    {
      "cell_type": "markdown",
      "source": [
        "### Diagnosing Tuned Model Accuracy Issue\n",
        "\n",
        "In this step, we aim to diagnose and resolve the unexpectedly low accuracy of the tuned model. We will follow these steps:\n",
        "\n",
        "1. **Verify Label Encoding Consistency:** Ensure that the label encoding and decoding process is correctly applied for both the training and testing datasets. Any mismatch in encoding can lead to incorrect predictions.\n",
        "\n",
        "2. **Inspect Predictions vs. True Labels:** Compare the predicted labels (`y_pred_tuned`) with the true labels (`y_test`) to identify discrepancies. This will help us detect patterns or errors in prediction.\n",
        "\n",
        "3. **Confirm Array Consistency:** Validate that the formats and values of `y_test` and `y_pred_tuned` match, as any misalignment could lead to calculation issues.\n",
        "\n",
        "By identifying and addressing these issues, we can better understand why the model's accuracy is low and take corrective measures.\n"
      ],
      "metadata": {
        "id": "bqIsXnmuH3Pd"
      }
    },
    {
      "cell_type": "code",
      "source": [
        "# Inspect unique values in y_train, y_test, and y_pred_tuned\n",
        "print(\"Unique values in y_train (encoded):\", set(y_train))\n",
        "print(\"Unique values in y_test (encoded):\", set(y_test))\n",
        "print(\"Unique values in y_pred_tuned (encoded):\", set(y_pred_tuned))\n",
        "\n",
        "# Adjust the manual mapping to use string keys if necessary\n",
        "label_mapping = {'0': 'Negative', '1': 'Neutral', '2': 'Positive'}\n",
        "\n",
        "# Convert numerical predictions and true labels to strings\n",
        "y_test_str = [str(label) for label in y_test]\n",
        "y_pred_tuned_str = [str(label) for label in y_pred_tuned]\n",
        "\n",
        "# Map numerical labels to sentiment labels for decoding\n",
        "decoded_y_test = [label_mapping[label] for label in y_test_str]\n",
        "decoded_y_pred_tuned = [label_mapping[label] for label in y_pred_tuned_str]\n",
        "\n",
        "# Inspect the decoded labels\n",
        "print(\"\\nUnique values in decoded y_test:\", set(decoded_y_test))\n",
        "print(\"Unique values in decoded y_pred_tuned:\", set(decoded_y_pred_tuned))\n",
        "\n",
        "# Confirm array consistency\n",
        "print(\"\\nShape of y_test:\", len(decoded_y_test))\n",
        "print(\"Shape of y_pred_tuned:\", len(decoded_y_pred_tuned))\n",
        "\n",
        "# Compare predictions and true labels\n",
        "mismatches = sum(y_true != y_pred for y_true, y_pred in zip(decoded_y_test, decoded_y_pred_tuned))\n",
        "print(f\"\\nNumber of mismatches between predicted and true labels: {mismatches}\")\n"
      ],
      "metadata": {
        "colab": {
          "base_uri": "https://localhost:8080/"
        },
        "id": "-bUbSfAdH9ns",
        "outputId": "c786554a-95b3-4db0-e563-a021a784c344"
      },
      "execution_count": 25,
      "outputs": [
        {
          "output_type": "stream",
          "name": "stdout",
          "text": [
            "Unique values in y_train (encoded): {0, 1, 2}\n",
            "Unique values in y_test (encoded): {'1', '2', '0'}\n",
            "Unique values in y_pred_tuned (encoded): {0, 1, 2}\n",
            "\n",
            "Unique values in decoded y_test: {'Neutral', 'Negative', 'Positive'}\n",
            "Unique values in decoded y_pred_tuned: {'Neutral', 'Negative', 'Positive'}\n",
            "\n",
            "Shape of y_test: 1000\n",
            "Shape of y_pred_tuned: 1000\n",
            "\n",
            "Number of mismatches between predicted and true labels: 210\n"
          ]
        }
      ]
    },
    {
      "cell_type": "markdown",
      "source": [
        "### Decoding Labels and Inspecting Mismatches\n",
        "\n",
        "**Objective:**\n",
        "To verify consistency between the encoded and decoded labels for `y_test` and `y_pred_tuned`, and to calculate the number of mismatches between predicted and true labels.\n",
        "\n",
        "**Results:**\n",
        "1. **Unique Values in Encoded Labels:**\n",
        "   - `y_train`: `{0, 1, 2}`\n",
        "   - `y_test`: `{'1', '2', '0'}`\n",
        "   - `y_pred_tuned`: `{0, 1, 2}`\n",
        "\n",
        "   Observations: The `y_test` values were initially string representations of integers, while `y_train` and `y_pred_tuned` contained integers. This discrepancy was resolved by converting all labels to strings for consistent decoding.\n",
        "\n",
        "2. **Unique Values in Decoded Labels:**\n",
        "   - `y_test`: `{'Neutral', 'Negative', 'Positive'}`\n",
        "   - `y_pred_tuned`: `{'Neutral', 'Negative', 'Positive'}`\n",
        "\n",
        "   Observations: After decoding, the labels match the expected sentiment categories.\n",
        "\n",
        "3. **Shapes of Arrays:**\n",
        "   - `y_test`: 1000\n",
        "   - `y_pred_tuned`: 1000\n",
        "\n",
        "   Observations: Both arrays have the same length, indicating a consistent number of test samples and predictions.\n",
        "\n",
        "4. **Mismatches Between Predicted and True Labels:**\n",
        "   - **Number of mismatches:** 210\n",
        "\n",
        "   Observations: Out of 1000 test samples, 210 predictions did not match the true labels. This reflects the model's performance and highlights areas for potential improvement.\n",
        "\n",
        "**Conclusion:**\n",
        "The labels were successfully decoded, and the mismatch count provides valuable insight into the model's accuracy. Further analysis and optimization may help reduce mismatches and improve prediction quality.\n"
      ],
      "metadata": {
        "id": "-yfcNmTMJn4L"
      }
    },
    {
      "cell_type": "markdown",
      "source": [
        "## Evaluate the Improved Model with Fine-Tuning\n",
        "\n",
        "In this step, we will evaluate the performance of the fine-tuned Logistic Regression model using a confusion matrix and a classification report. The confusion matrix will provide a detailed breakdown of true vs. predicted labels for each sentiment class. The classification report will summarize the model's precision, recall, and F1-score across all classes. These metrics will help us assess the impact of fine-tuning and whether the model's performance has improved.\n"
      ],
      "metadata": {
        "id": "Kxs2X4wWJ43u"
      }
    },
    {
      "cell_type": "code",
      "source": [
        "from sklearn.metrics import confusion_matrix, classification_report, ConfusionMatrixDisplay\n",
        "import numpy as np\n",
        "\n",
        "# Ensure y_test and y_pred_tuned are NumPy arrays and convert them to integers\n",
        "y_test_array = np.array(y_test, dtype=int)  # Convert y_test to a NumPy array of integers\n",
        "y_pred_tuned_array = np.array(y_pred_tuned, dtype=int)  # Convert y_pred_tuned to a NumPy array of integers\n",
        "\n",
        "# Generate a confusion matrix\n",
        "conf_matrix = confusion_matrix(y_test_array, y_pred_tuned_array, labels=[0, 1, 2])\n",
        "\n",
        "# Display the confusion matrix\n",
        "disp = ConfusionMatrixDisplay(confusion_matrix=conf_matrix, display_labels=['Negative', 'Neutral', 'Positive'])\n",
        "disp.plot(cmap='Blues')\n",
        "plt.title('Confusion Matrix for Fine-Tuned Model')\n",
        "plt.show()\n",
        "\n",
        "# Generate a classification report\n",
        "print(\"Classification Report for Fine-Tuned Model:\")\n",
        "print(classification_report(y_test_array, y_pred_tuned_array, target_names=['Negative', 'Neutral', 'Positive']))\n"
      ],
      "metadata": {
        "colab": {
          "base_uri": "https://localhost:8080/",
          "height": 673
        },
        "id": "r0zL6IezKAh5",
        "outputId": "8a24ddd7-6ece-429d-bff6-45d10634bfee"
      },
      "execution_count": 28,
      "outputs": [
        {
          "output_type": "display_data",
          "data": {
            "text/plain": [
              "<Figure size 640x480 with 2 Axes>"
            ],
            "image/png": "[encoded data removed]"
          },
          "metadata": {}
        },
        {
          "output_type": "stream",
          "name": "stdout",
          "text": [
            "Classification Report for Fine-Tuned Model:\n",
            "              precision    recall  f1-score   support\n",
            "\n",
            "    Negative       0.78      0.16      0.27       152\n",
            "     Neutral       0.00      0.00      0.00        79\n",
            "    Positive       0.79      0.99      0.88       769\n",
            "\n",
            "    accuracy                           0.79      1000\n",
            "   macro avg       0.52      0.39      0.38      1000\n",
            "weighted avg       0.73      0.79      0.72      1000\n",
            "\n"
          ]
        }
      ]
    },
    {
      "cell_type": "markdown",
      "source": [
        "### Results: Evaluation of the Fine-Tuned Logistic Regression Model\n",
        "\n",
        "#### Confusion Matrix\n",
        "The confusion matrix for the fine-tuned Logistic Regression model is displayed below. It shows the true labels on the vertical axis (y-axis) and the predicted labels on the horizontal axis (x-axis).\n",
        "\n",
        "- **Negative Sentiment**: 25 correctly predicted, 126 misclassified as Positive, 1 as Neutral.\n",
        "- **Neutral Sentiment**: 5 misclassified as Negative, 74 correctly predicted, 0 misclassified as Positive.\n",
        "- **Positive Sentiment**: 2 misclassified as Negative, 2 as Neutral, and 765 correctly predicted.\n",
        "\n",
        "This illustrates that while the model performs well on identifying Positive sentiment, it struggles significantly with Neutral and Negative sentiments.\n",
        "\n",
        "---\n",
        "\n",
        "#### Classification Report\n",
        "The classification report for the fine-tuned model provides the following metrics:\n",
        "\n",
        "| Sentiment   | Precision | Recall | F1-Score | Support |\n",
        "|-------------|-----------|--------|----------|---------|\n",
        "| Negative    | 0.78      | 0.16   | 0.27     | 152     |\n",
        "| Neutral     | 0.00      | 0.00   | 0.00     | 79      |\n",
        "| Positive    | 0.79      | 0.99   | 0.88     | 769     |\n",
        "\n",
        "**Overall Metrics**:\n",
        "- **Accuracy**: 79%\n",
        "- **Macro Average**:\n",
        "  - Precision: 0.52\n",
        "  - Recall: 0.39\n",
        "  - F1-Score: 0.38\n",
        "- **Weighted Average**:\n",
        "  - Precision: 0.73\n",
        "  - Recall: 0.79\n",
        "  - F1-Score: 0.72\n",
        "\n",
        "---\n",
        "\n",
        "#### Observations\n",
        "1. **Positive Sentiment**:\n",
        "   - The model achieves high precision (0.79) and recall (0.99) for positive sentiments, indicating strong performance in identifying Positive reviews.\n",
        "\n",
        "2. **Negative Sentiment**:\n",
        "   - The model achieves a moderate precision of 0.78, but recall is significantly low at 0.16, highlighting challenges in identifying Negative sentiments.\n",
        "\n",
        "3. **Neutral Sentiment**:\n",
        "   - The model fails entirely for Neutral sentiments, with a precision, recall, and F1-score of 0.00.\n",
        "\n",
        "4. **Improvements**:\n",
        "   - The low recall for Negative and the poor performance for Neutral sentiments suggest that further feature engineering, model complexity, or dataset balancing is needed.\n",
        "\n",
        "This analysis demonstrates the effectiveness of the fine-tuned model for Positive sentiment but also highlights critical areas for improvement for Negative and Neutral sentiment classification.\n"
      ],
      "metadata": {
        "id": "z2zcnnjPKxj8"
      }
    },
    {
      "cell_type": "markdown",
      "source": [
        "## Conclusion\n",
        "\n",
        "In this project, we analyzed Amazon product reviews to classify sentiment into three categories: Positive, Neutral, and Negative. By leveraging Natural Language Processing (NLP) techniques, we processed and cleaned textual data, extracted meaningful features, and built a machine learning model for sentiment analysis.\n",
        "\n",
        "### Key Steps and Outcomes:\n",
        "1. **Data Preparation**:\n",
        "   - Loaded and preprocessed a dataset containing over 500,000 reviews.\n",
        "   - Conducted feature extraction using `TfidfVectorizer` to represent textual data numerically.\n",
        "\n",
        "2. **Model Development**:\n",
        "   - Implemented a Logistic Regression model.\n",
        "   - Fine-tuned the model using `GridSearchCV` to optimize hyperparameters for better performance.\n",
        "\n",
        "3. **Model Evaluation**:\n",
        "   - Achieved an accuracy of **79%** on the test dataset with the fine-tuned model.\n",
        "   - The confusion matrix and classification report highlighted the model's strengths in detecting Positive sentiment but revealed challenges in accurately predicting Neutral and Negative sentiment.\n",
        "\n",
        "4. **Challenges**:\n",
        "   - Imbalanced data distribution, where Positive reviews dominated the dataset, impacted model performance on Neutral and Negative labels.\n",
        "   - Further improvement may require techniques such as data augmentation or more advanced models like ensemble methods or deep learning.\n",
        "\n",
        "### Insights:\n",
        "- The model's high precision and recall for Positive reviews make it suitable for applications where identifying positive customer feedback is critical.\n",
        "- However, improvements are needed for better performance in identifying Negative and Neutral sentiments, especially in cases of highly imbalanced datasets.\n",
        "\n",
        "### Conclusion:\n",
        "This project demonstrated the potential of machine learning and NLP techniques in sentiment analysis. Despite the challenges of imbalanced data, the fine-tuned Logistic Regression model provided valuable insights into customer sentiment. Future iterations of this project can focus on addressing limitations to improve accuracy across all sentiment categories.\n",
        "\n"
      ],
      "metadata": {
        "id": "VXZrY-fCMzbO"
      }
    }
  ]
}